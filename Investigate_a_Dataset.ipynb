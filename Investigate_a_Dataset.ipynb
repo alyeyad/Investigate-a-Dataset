{
 "cells": [
  {
   "cell_type": "markdown",
   "metadata": {},
   "source": [
    "# Project: Investigate a Dataset - No-show appointments\n",
    "## Table of Contents\n",
    "<ul>\n",
    "<li><a href=\"#intro\">Introduction</a></li>\n",
    "<li><a href=\"#wrangling\">Data Wrangling</a></li>\n",
    "<li><a href=\"#eda\">Exploratory Data Analysis</a></li>\n",
    "<li><a href=\"#conclusions\">Conclusions</a></li>\n",
    "</ul>"
   ]
  },
  {
   "cell_type": "markdown",
   "metadata": {},
   "source": [
    "<a id='intro'></a>\n",
    "## Introduction\n",
    "\n",
    "### Dataset Description \n",
    "\n",
    "This dataset includes data about more than 100 thousand medical appointments in Brazil, for each medical appointment, the following information is provided:<br>\n",
    "**1 - PatientId:** Identification number of the patient<br>**2 - AppointmentID:** Identification number of the appointment<br>**3 - Gender:** Male or Female<br>**4 - ScheduledDay:** The day on which the appointment was booked<br>**5 - AppointmentDay:** The day on which the appointment itself took place<br>**6 - Age**<br>**7 - Neighbourhood:** Location of the appointment<br>**8 - Scholarship:** Whether or not the patient is enrolled in Brasilian welfare program Bolsa Família.<br>**9 - Hipertension:** Whether or not the patient suffers from Hypertension<br>**10 - Diabetes:** Whether or not the patient suffers from Diabetes<br>**11 - Alcoholism:** Whether or not the patient suffers from Alcoholism<br>**12 - Handcap:** Whether or not the patient is Handicapped<br>**13 - SMS_received:** Was the patient sent an SMS or not<br>**14 - No-show:** Whether or not the patient showed up for the appointment\n",
    "\n",
    "### Question(s) for Analysis\n",
    "\n",
    "**Q1)** What Characteristics lead to patients showing up?<br>\n",
    "**Q2)** What is the Average age and Gender of patients that suffer from Diabetes, Hypertension, Alcoholism, and Handicap?<br>"
   ]
  },
  {
   "cell_type": "code",
   "execution_count": 86,
   "metadata": {},
   "outputs": [],
   "source": [
    "import pandas as pd\n",
    "import numpy as np\n",
    "import matplotlib.pyplot as plt\n",
    "import seaborn as sns\n",
    "%matplotlib inline\n",
    "sns.set_style('darkgrid')"
   ]
  },
  {
   "cell_type": "markdown",
   "metadata": {},
   "source": [
    "<a id='wrangling'></a>\n",
    "## Data Wrangling\n",
    "\n",
    "### General Properties\n",
    "\n",
    "* This Dataset initially has 110527 rows & 14 columns\n",
    "* 8 columns are ints, 5 columns are strings, and one column is float"
   ]
  },
  {
   "cell_type": "code",
   "execution_count": 87,
   "metadata": {},
   "outputs": [],
   "source": [
    "#loading the dataset csv file\n",
    "def load_data(filename):\n",
    "    return pd.read_csv(filename)\n",
    "df=load_data('Database_No_show_appointments/noshowappointments-kagglev2-may-2016.csv')"
   ]
  },
  {
   "cell_type": "code",
   "execution_count": 88,
   "metadata": {},
   "outputs": [
    {
     "name": "stdout",
     "output_type": "stream",
     "text": [
      "<class 'pandas.core.frame.DataFrame'>\n",
      "RangeIndex: 110527 entries, 0 to 110526\n",
      "Data columns (total 14 columns):\n",
      "PatientId         110527 non-null float64\n",
      "AppointmentID     110527 non-null int64\n",
      "Gender            110527 non-null object\n",
      "ScheduledDay      110527 non-null object\n",
      "AppointmentDay    110527 non-null object\n",
      "Age               110527 non-null int64\n",
      "Neighbourhood     110527 non-null object\n",
      "Scholarship       110527 non-null int64\n",
      "Hipertension      110527 non-null int64\n",
      "Diabetes          110527 non-null int64\n",
      "Alcoholism        110527 non-null int64\n",
      "Handcap           110527 non-null int64\n",
      "SMS_received      110527 non-null int64\n",
      "No-show           110527 non-null object\n",
      "dtypes: float64(1), int64(8), object(5)\n",
      "memory usage: 11.8+ MB\n"
     ]
    }
   ],
   "source": [
    "df.info()"
   ]
  },
  {
   "cell_type": "code",
   "execution_count": 89,
   "metadata": {
    "scrolled": true
   },
   "outputs": [
    {
     "data": {
      "text/html": [
       "<div>\n",
       "<style scoped>\n",
       "    .dataframe tbody tr th:only-of-type {\n",
       "        vertical-align: middle;\n",
       "    }\n",
       "\n",
       "    .dataframe tbody tr th {\n",
       "        vertical-align: top;\n",
       "    }\n",
       "\n",
       "    .dataframe thead th {\n",
       "        text-align: right;\n",
       "    }\n",
       "</style>\n",
       "<table border=\"1\" class=\"dataframe\">\n",
       "  <thead>\n",
       "    <tr style=\"text-align: right;\">\n",
       "      <th></th>\n",
       "      <th>PatientId</th>\n",
       "      <th>AppointmentID</th>\n",
       "      <th>Gender</th>\n",
       "      <th>ScheduledDay</th>\n",
       "      <th>AppointmentDay</th>\n",
       "      <th>Age</th>\n",
       "      <th>Neighbourhood</th>\n",
       "      <th>Scholarship</th>\n",
       "      <th>Hipertension</th>\n",
       "      <th>Diabetes</th>\n",
       "      <th>Alcoholism</th>\n",
       "      <th>Handcap</th>\n",
       "      <th>SMS_received</th>\n",
       "      <th>No-show</th>\n",
       "    </tr>\n",
       "  </thead>\n",
       "  <tbody>\n",
       "    <tr>\n",
       "      <th>0</th>\n",
       "      <td>2.987250e+13</td>\n",
       "      <td>5642903</td>\n",
       "      <td>F</td>\n",
       "      <td>2016-04-29T18:38:08Z</td>\n",
       "      <td>2016-04-29T00:00:00Z</td>\n",
       "      <td>62</td>\n",
       "      <td>JARDIM DA PENHA</td>\n",
       "      <td>0</td>\n",
       "      <td>1</td>\n",
       "      <td>0</td>\n",
       "      <td>0</td>\n",
       "      <td>0</td>\n",
       "      <td>0</td>\n",
       "      <td>No</td>\n",
       "    </tr>\n",
       "    <tr>\n",
       "      <th>1</th>\n",
       "      <td>5.589978e+14</td>\n",
       "      <td>5642503</td>\n",
       "      <td>M</td>\n",
       "      <td>2016-04-29T16:08:27Z</td>\n",
       "      <td>2016-04-29T00:00:00Z</td>\n",
       "      <td>56</td>\n",
       "      <td>JARDIM DA PENHA</td>\n",
       "      <td>0</td>\n",
       "      <td>0</td>\n",
       "      <td>0</td>\n",
       "      <td>0</td>\n",
       "      <td>0</td>\n",
       "      <td>0</td>\n",
       "      <td>No</td>\n",
       "    </tr>\n",
       "    <tr>\n",
       "      <th>2</th>\n",
       "      <td>4.262962e+12</td>\n",
       "      <td>5642549</td>\n",
       "      <td>F</td>\n",
       "      <td>2016-04-29T16:19:04Z</td>\n",
       "      <td>2016-04-29T00:00:00Z</td>\n",
       "      <td>62</td>\n",
       "      <td>MATA DA PRAIA</td>\n",
       "      <td>0</td>\n",
       "      <td>0</td>\n",
       "      <td>0</td>\n",
       "      <td>0</td>\n",
       "      <td>0</td>\n",
       "      <td>0</td>\n",
       "      <td>No</td>\n",
       "    </tr>\n",
       "    <tr>\n",
       "      <th>3</th>\n",
       "      <td>8.679512e+11</td>\n",
       "      <td>5642828</td>\n",
       "      <td>F</td>\n",
       "      <td>2016-04-29T17:29:31Z</td>\n",
       "      <td>2016-04-29T00:00:00Z</td>\n",
       "      <td>8</td>\n",
       "      <td>PONTAL DE CAMBURI</td>\n",
       "      <td>0</td>\n",
       "      <td>0</td>\n",
       "      <td>0</td>\n",
       "      <td>0</td>\n",
       "      <td>0</td>\n",
       "      <td>0</td>\n",
       "      <td>No</td>\n",
       "    </tr>\n",
       "    <tr>\n",
       "      <th>4</th>\n",
       "      <td>8.841186e+12</td>\n",
       "      <td>5642494</td>\n",
       "      <td>F</td>\n",
       "      <td>2016-04-29T16:07:23Z</td>\n",
       "      <td>2016-04-29T00:00:00Z</td>\n",
       "      <td>56</td>\n",
       "      <td>JARDIM DA PENHA</td>\n",
       "      <td>0</td>\n",
       "      <td>1</td>\n",
       "      <td>1</td>\n",
       "      <td>0</td>\n",
       "      <td>0</td>\n",
       "      <td>0</td>\n",
       "      <td>No</td>\n",
       "    </tr>\n",
       "  </tbody>\n",
       "</table>\n",
       "</div>"
      ],
      "text/plain": [
       "      PatientId  AppointmentID Gender          ScheduledDay  \\\n",
       "0  2.987250e+13        5642903      F  2016-04-29T18:38:08Z   \n",
       "1  5.589978e+14        5642503      M  2016-04-29T16:08:27Z   \n",
       "2  4.262962e+12        5642549      F  2016-04-29T16:19:04Z   \n",
       "3  8.679512e+11        5642828      F  2016-04-29T17:29:31Z   \n",
       "4  8.841186e+12        5642494      F  2016-04-29T16:07:23Z   \n",
       "\n",
       "         AppointmentDay  Age      Neighbourhood  Scholarship  Hipertension  \\\n",
       "0  2016-04-29T00:00:00Z   62    JARDIM DA PENHA            0             1   \n",
       "1  2016-04-29T00:00:00Z   56    JARDIM DA PENHA            0             0   \n",
       "2  2016-04-29T00:00:00Z   62      MATA DA PRAIA            0             0   \n",
       "3  2016-04-29T00:00:00Z    8  PONTAL DE CAMBURI            0             0   \n",
       "4  2016-04-29T00:00:00Z   56    JARDIM DA PENHA            0             1   \n",
       "\n",
       "   Diabetes  Alcoholism  Handcap  SMS_received No-show  \n",
       "0         0           0        0             0      No  \n",
       "1         0           0        0             0      No  \n",
       "2         0           0        0             0      No  \n",
       "3         0           0        0             0      No  \n",
       "4         1           0        0             0      No  "
      ]
     },
     "execution_count": 89,
     "metadata": {},
     "output_type": "execute_result"
    }
   ],
   "source": [
    "df.head()"
   ]
  },
  {
   "cell_type": "code",
   "execution_count": 90,
   "metadata": {},
   "outputs": [
    {
     "data": {
      "text/html": [
       "<div>\n",
       "<style scoped>\n",
       "    .dataframe tbody tr th:only-of-type {\n",
       "        vertical-align: middle;\n",
       "    }\n",
       "\n",
       "    .dataframe tbody tr th {\n",
       "        vertical-align: top;\n",
       "    }\n",
       "\n",
       "    .dataframe thead th {\n",
       "        text-align: right;\n",
       "    }\n",
       "</style>\n",
       "<table border=\"1\" class=\"dataframe\">\n",
       "  <thead>\n",
       "    <tr style=\"text-align: right;\">\n",
       "      <th></th>\n",
       "      <th>PatientId</th>\n",
       "      <th>AppointmentID</th>\n",
       "      <th>Age</th>\n",
       "      <th>Scholarship</th>\n",
       "      <th>Hipertension</th>\n",
       "      <th>Diabetes</th>\n",
       "      <th>Alcoholism</th>\n",
       "      <th>Handcap</th>\n",
       "      <th>SMS_received</th>\n",
       "    </tr>\n",
       "  </thead>\n",
       "  <tbody>\n",
       "    <tr>\n",
       "      <th>count</th>\n",
       "      <td>1.105270e+05</td>\n",
       "      <td>1.105270e+05</td>\n",
       "      <td>110527.000000</td>\n",
       "      <td>110527.000000</td>\n",
       "      <td>110527.000000</td>\n",
       "      <td>110527.000000</td>\n",
       "      <td>110527.000000</td>\n",
       "      <td>110527.000000</td>\n",
       "      <td>110527.000000</td>\n",
       "    </tr>\n",
       "    <tr>\n",
       "      <th>mean</th>\n",
       "      <td>1.474963e+14</td>\n",
       "      <td>5.675305e+06</td>\n",
       "      <td>37.088874</td>\n",
       "      <td>0.098266</td>\n",
       "      <td>0.197246</td>\n",
       "      <td>0.071865</td>\n",
       "      <td>0.030400</td>\n",
       "      <td>0.022248</td>\n",
       "      <td>0.321026</td>\n",
       "    </tr>\n",
       "    <tr>\n",
       "      <th>std</th>\n",
       "      <td>2.560949e+14</td>\n",
       "      <td>7.129575e+04</td>\n",
       "      <td>23.110205</td>\n",
       "      <td>0.297675</td>\n",
       "      <td>0.397921</td>\n",
       "      <td>0.258265</td>\n",
       "      <td>0.171686</td>\n",
       "      <td>0.161543</td>\n",
       "      <td>0.466873</td>\n",
       "    </tr>\n",
       "    <tr>\n",
       "      <th>min</th>\n",
       "      <td>3.921784e+04</td>\n",
       "      <td>5.030230e+06</td>\n",
       "      <td>-1.000000</td>\n",
       "      <td>0.000000</td>\n",
       "      <td>0.000000</td>\n",
       "      <td>0.000000</td>\n",
       "      <td>0.000000</td>\n",
       "      <td>0.000000</td>\n",
       "      <td>0.000000</td>\n",
       "    </tr>\n",
       "    <tr>\n",
       "      <th>25%</th>\n",
       "      <td>4.172614e+12</td>\n",
       "      <td>5.640286e+06</td>\n",
       "      <td>18.000000</td>\n",
       "      <td>0.000000</td>\n",
       "      <td>0.000000</td>\n",
       "      <td>0.000000</td>\n",
       "      <td>0.000000</td>\n",
       "      <td>0.000000</td>\n",
       "      <td>0.000000</td>\n",
       "    </tr>\n",
       "    <tr>\n",
       "      <th>50%</th>\n",
       "      <td>3.173184e+13</td>\n",
       "      <td>5.680573e+06</td>\n",
       "      <td>37.000000</td>\n",
       "      <td>0.000000</td>\n",
       "      <td>0.000000</td>\n",
       "      <td>0.000000</td>\n",
       "      <td>0.000000</td>\n",
       "      <td>0.000000</td>\n",
       "      <td>0.000000</td>\n",
       "    </tr>\n",
       "    <tr>\n",
       "      <th>75%</th>\n",
       "      <td>9.439172e+13</td>\n",
       "      <td>5.725524e+06</td>\n",
       "      <td>55.000000</td>\n",
       "      <td>0.000000</td>\n",
       "      <td>0.000000</td>\n",
       "      <td>0.000000</td>\n",
       "      <td>0.000000</td>\n",
       "      <td>0.000000</td>\n",
       "      <td>1.000000</td>\n",
       "    </tr>\n",
       "    <tr>\n",
       "      <th>max</th>\n",
       "      <td>9.999816e+14</td>\n",
       "      <td>5.790484e+06</td>\n",
       "      <td>115.000000</td>\n",
       "      <td>1.000000</td>\n",
       "      <td>1.000000</td>\n",
       "      <td>1.000000</td>\n",
       "      <td>1.000000</td>\n",
       "      <td>4.000000</td>\n",
       "      <td>1.000000</td>\n",
       "    </tr>\n",
       "  </tbody>\n",
       "</table>\n",
       "</div>"
      ],
      "text/plain": [
       "          PatientId  AppointmentID            Age    Scholarship  \\\n",
       "count  1.105270e+05   1.105270e+05  110527.000000  110527.000000   \n",
       "mean   1.474963e+14   5.675305e+06      37.088874       0.098266   \n",
       "std    2.560949e+14   7.129575e+04      23.110205       0.297675   \n",
       "min    3.921784e+04   5.030230e+06      -1.000000       0.000000   \n",
       "25%    4.172614e+12   5.640286e+06      18.000000       0.000000   \n",
       "50%    3.173184e+13   5.680573e+06      37.000000       0.000000   \n",
       "75%    9.439172e+13   5.725524e+06      55.000000       0.000000   \n",
       "max    9.999816e+14   5.790484e+06     115.000000       1.000000   \n",
       "\n",
       "        Hipertension       Diabetes     Alcoholism        Handcap  \\\n",
       "count  110527.000000  110527.000000  110527.000000  110527.000000   \n",
       "mean        0.197246       0.071865       0.030400       0.022248   \n",
       "std         0.397921       0.258265       0.171686       0.161543   \n",
       "min         0.000000       0.000000       0.000000       0.000000   \n",
       "25%         0.000000       0.000000       0.000000       0.000000   \n",
       "50%         0.000000       0.000000       0.000000       0.000000   \n",
       "75%         0.000000       0.000000       0.000000       0.000000   \n",
       "max         1.000000       1.000000       1.000000       4.000000   \n",
       "\n",
       "        SMS_received  \n",
       "count  110527.000000  \n",
       "mean        0.321026  \n",
       "std         0.466873  \n",
       "min         0.000000  \n",
       "25%         0.000000  \n",
       "50%         0.000000  \n",
       "75%         1.000000  \n",
       "max         1.000000  "
      ]
     },
     "execution_count": 90,
     "metadata": {},
     "output_type": "execute_result"
    }
   ],
   "source": [
    "df.describe()"
   ]
  },
  {
   "cell_type": "markdown",
   "metadata": {},
   "source": [
    "\n",
    "### Data Cleaning\n",
    "\n",
    "* The Data does not have any missing values initially\n",
    "* Patient Id should be converted from float to int\n",
    "* AppointmentDay should be converted from string to datetime\n",
    "* Date format seems impractical for AppointmentDay, will be split into month & day of week, then dropped\n",
    "* In my opinion, appointment ID column is not needed for any conclusion, will be dropped\n",
    "* Also, Scheduling day has no effect on whether or not a patient shows up, will be dropped\n",
    "* Handcap column is misspelled, will be renamed to Handicap\n",
    "* Hancap column should only takes values of 0, 1. Rows with values of 2 or 3 will be dropped\n",
    "* No-show should be renamed for easy access into No_show\n",
    "* There is 1 row with age value equal to -1 , will be dropped\n",
    "* Ages of 0 will not be dropped, assumed to be younger than a year old"
   ]
  },
  {
   "cell_type": "code",
   "execution_count": 91,
   "metadata": {},
   "outputs": [],
   "source": [
    "df.drop(['AppointmentID'],axis=1,inplace=True)\n",
    "df.drop(['ScheduledDay'],axis=1,inplace=True)"
   ]
  },
  {
   "cell_type": "markdown",
   "metadata": {},
   "source": [
    "**AppointmentID & ScheduledDay columns were dropped due to irrelevance**"
   ]
  },
  {
   "cell_type": "code",
   "execution_count": 92,
   "metadata": {},
   "outputs": [],
   "source": [
    "df['PatientId']=df['PatientId'].astype(int)"
   ]
  },
  {
   "cell_type": "markdown",
   "metadata": {},
   "source": [
    "**Patient ID column was converted to int to avoid scientific notation**"
   ]
  },
  {
   "cell_type": "code",
   "execution_count": 93,
   "metadata": {},
   "outputs": [],
   "source": [
    "df.rename(columns={'Handcap':'Handicap'},inplace=True)"
   ]
  },
  {
   "cell_type": "markdown",
   "metadata": {},
   "source": [
    "**Handcap column was renamed to Handicap**"
   ]
  },
  {
   "cell_type": "code",
   "execution_count": 94,
   "metadata": {},
   "outputs": [],
   "source": [
    "invalid_handicap=df[df['Handicap']>1].index\n",
    "df.drop(invalid_handicap,inplace=True)"
   ]
  },
  {
   "cell_type": "markdown",
   "metadata": {},
   "source": [
    "**Rows with invalid Values of Handicap (2 , 3) were dropped**"
   ]
  },
  {
   "cell_type": "code",
   "execution_count": 95,
   "metadata": {},
   "outputs": [],
   "source": [
    "df.drop(df.query('Age==-1').index,inplace=True)"
   ]
  },
  {
   "cell_type": "markdown",
   "metadata": {},
   "source": [
    "**One row with age = -1 was dropped**"
   ]
  },
  {
   "cell_type": "code",
   "execution_count": 96,
   "metadata": {},
   "outputs": [],
   "source": [
    "df['AppointmentDay']=pd.to_datetime(df['AppointmentDay'])\n",
    "\n",
    "df['AppDay']=df['AppointmentDay'].dt.day_name()\n",
    "df['AppMonth']=df['AppointmentDay'].dt.month\n",
    "\n",
    "df.drop(['AppointmentDay'],axis=1,inplace=True)"
   ]
  },
  {
   "cell_type": "markdown",
   "metadata": {},
   "source": [
    "**Appointment Day Column was converted to datetime type and split into two columns representing day & month, then dropped**"
   ]
  },
  {
   "cell_type": "code",
   "execution_count": 97,
   "metadata": {
    "scrolled": true
   },
   "outputs": [],
   "source": [
    "df.rename(columns={'No-show':'No_show'},inplace=True)"
   ]
  },
  {
   "cell_type": "markdown",
   "metadata": {},
   "source": [
    "**No-show renamed to No_show**"
   ]
  },
  {
   "cell_type": "code",
   "execution_count": 98,
   "metadata": {
    "scrolled": true
   },
   "outputs": [
    {
     "name": "stdout",
     "output_type": "stream",
     "text": [
      "<class 'pandas.core.frame.DataFrame'>\n",
      "Int64Index: 110327 entries, 0 to 110526\n",
      "Data columns (total 13 columns):\n",
      "PatientId        110327 non-null int64\n",
      "Gender           110327 non-null object\n",
      "Age              110327 non-null int64\n",
      "Neighbourhood    110327 non-null object\n",
      "Scholarship      110327 non-null int64\n",
      "Hipertension     110327 non-null int64\n",
      "Diabetes         110327 non-null int64\n",
      "Alcoholism       110327 non-null int64\n",
      "Handicap         110327 non-null int64\n",
      "SMS_received     110327 non-null int64\n",
      "No_show          110327 non-null object\n",
      "AppDay           110327 non-null object\n",
      "AppMonth         110327 non-null int64\n",
      "dtypes: int64(9), object(4)\n",
      "memory usage: 11.8+ MB\n"
     ]
    }
   ],
   "source": [
    "df.info()"
   ]
  },
  {
   "cell_type": "code",
   "execution_count": 99,
   "metadata": {
    "scrolled": true
   },
   "outputs": [
    {
     "data": {
      "text/html": [
       "<div>\n",
       "<style scoped>\n",
       "    .dataframe tbody tr th:only-of-type {\n",
       "        vertical-align: middle;\n",
       "    }\n",
       "\n",
       "    .dataframe tbody tr th {\n",
       "        vertical-align: top;\n",
       "    }\n",
       "\n",
       "    .dataframe thead th {\n",
       "        text-align: right;\n",
       "    }\n",
       "</style>\n",
       "<table border=\"1\" class=\"dataframe\">\n",
       "  <thead>\n",
       "    <tr style=\"text-align: right;\">\n",
       "      <th></th>\n",
       "      <th>PatientId</th>\n",
       "      <th>Gender</th>\n",
       "      <th>Age</th>\n",
       "      <th>Neighbourhood</th>\n",
       "      <th>Scholarship</th>\n",
       "      <th>Hipertension</th>\n",
       "      <th>Diabetes</th>\n",
       "      <th>Alcoholism</th>\n",
       "      <th>Handicap</th>\n",
       "      <th>SMS_received</th>\n",
       "      <th>No_show</th>\n",
       "      <th>AppDay</th>\n",
       "      <th>AppMonth</th>\n",
       "    </tr>\n",
       "  </thead>\n",
       "  <tbody>\n",
       "    <tr>\n",
       "      <th>0</th>\n",
       "      <td>29872499824296</td>\n",
       "      <td>F</td>\n",
       "      <td>62</td>\n",
       "      <td>JARDIM DA PENHA</td>\n",
       "      <td>0</td>\n",
       "      <td>1</td>\n",
       "      <td>0</td>\n",
       "      <td>0</td>\n",
       "      <td>0</td>\n",
       "      <td>0</td>\n",
       "      <td>No</td>\n",
       "      <td>Friday</td>\n",
       "      <td>4</td>\n",
       "    </tr>\n",
       "    <tr>\n",
       "      <th>1</th>\n",
       "      <td>558997776694438</td>\n",
       "      <td>M</td>\n",
       "      <td>56</td>\n",
       "      <td>JARDIM DA PENHA</td>\n",
       "      <td>0</td>\n",
       "      <td>0</td>\n",
       "      <td>0</td>\n",
       "      <td>0</td>\n",
       "      <td>0</td>\n",
       "      <td>0</td>\n",
       "      <td>No</td>\n",
       "      <td>Friday</td>\n",
       "      <td>4</td>\n",
       "    </tr>\n",
       "    <tr>\n",
       "      <th>2</th>\n",
       "      <td>4262962299951</td>\n",
       "      <td>F</td>\n",
       "      <td>62</td>\n",
       "      <td>MATA DA PRAIA</td>\n",
       "      <td>0</td>\n",
       "      <td>0</td>\n",
       "      <td>0</td>\n",
       "      <td>0</td>\n",
       "      <td>0</td>\n",
       "      <td>0</td>\n",
       "      <td>No</td>\n",
       "      <td>Friday</td>\n",
       "      <td>4</td>\n",
       "    </tr>\n",
       "    <tr>\n",
       "      <th>3</th>\n",
       "      <td>867951213174</td>\n",
       "      <td>F</td>\n",
       "      <td>8</td>\n",
       "      <td>PONTAL DE CAMBURI</td>\n",
       "      <td>0</td>\n",
       "      <td>0</td>\n",
       "      <td>0</td>\n",
       "      <td>0</td>\n",
       "      <td>0</td>\n",
       "      <td>0</td>\n",
       "      <td>No</td>\n",
       "      <td>Friday</td>\n",
       "      <td>4</td>\n",
       "    </tr>\n",
       "    <tr>\n",
       "      <th>4</th>\n",
       "      <td>8841186448183</td>\n",
       "      <td>F</td>\n",
       "      <td>56</td>\n",
       "      <td>JARDIM DA PENHA</td>\n",
       "      <td>0</td>\n",
       "      <td>1</td>\n",
       "      <td>1</td>\n",
       "      <td>0</td>\n",
       "      <td>0</td>\n",
       "      <td>0</td>\n",
       "      <td>No</td>\n",
       "      <td>Friday</td>\n",
       "      <td>4</td>\n",
       "    </tr>\n",
       "  </tbody>\n",
       "</table>\n",
       "</div>"
      ],
      "text/plain": [
       "         PatientId Gender  Age      Neighbourhood  Scholarship  Hipertension  \\\n",
       "0   29872499824296      F   62    JARDIM DA PENHA            0             1   \n",
       "1  558997776694438      M   56    JARDIM DA PENHA            0             0   \n",
       "2    4262962299951      F   62      MATA DA PRAIA            0             0   \n",
       "3     867951213174      F    8  PONTAL DE CAMBURI            0             0   \n",
       "4    8841186448183      F   56    JARDIM DA PENHA            0             1   \n",
       "\n",
       "   Diabetes  Alcoholism  Handicap  SMS_received No_show  AppDay  AppMonth  \n",
       "0         0           0         0             0      No  Friday         4  \n",
       "1         0           0         0             0      No  Friday         4  \n",
       "2         0           0         0             0      No  Friday         4  \n",
       "3         0           0         0             0      No  Friday         4  \n",
       "4         1           0         0             0      No  Friday         4  "
      ]
     },
     "execution_count": 99,
     "metadata": {},
     "output_type": "execute_result"
    }
   ],
   "source": [
    "df.head()"
   ]
  },
  {
   "cell_type": "markdown",
   "metadata": {},
   "source": [
    "**After Cleaning the data, The Dataset has:**<br> \n",
    "* 110327 rows & 13 columns"
   ]
  },
  {
   "cell_type": "code",
   "execution_count": 100,
   "metadata": {},
   "outputs": [],
   "source": [
    "#masks to facilitate filtering by no show\n",
    "came=df['No_show']=='No'\n",
    "missed=df['No_show']=='Yes'"
   ]
  },
  {
   "cell_type": "markdown",
   "metadata": {},
   "source": [
    "<a id='eda'></a>\n",
    "## Exploratory Data Analysis\n",
    "\n",
    "### Q1) What Characteristics lead to patients showing up?"
   ]
  },
  {
   "cell_type": "markdown",
   "metadata": {},
   "source": [
    "**1-Gender:**<br>\n",
    "* Since Number of Females is much larger than that of males, comparing the number of people who came for every gender is unfair. That's why using proportion yields a more accurate result<br>\n",
    "* Proportion is calculated by dividing count of every gender who came by total number of patients for that gender"
   ]
  },
  {
   "cell_type": "code",
   "execution_count": 101,
   "metadata": {
    "scrolled": true
   },
   "outputs": [
    {
     "data": {
      "image/png": "[encoded data removed]",
      "text/plain": [
       "<matplotlib.figure.Figure at 0x7fefeecc7eb8>"
      ]
     },
     "metadata": {},
     "output_type": "display_data"
    }
   ],
   "source": [
    "#counting total number of males and females in the data set\n",
    "all_gender=df.groupby('Gender')['Age'].count()\n",
    "#counting the number of males and females who came\n",
    "came_gender=df[came].groupby('Gender')['Age'].count()\n",
    "#dividing the two counts to get a proportion\n",
    "came_gender/=all_gender\n",
    "#plotting the proportion (plt.pie() will be used later, this is for variety of options)\n",
    "came_gender.plot(kind='pie',title=\"Proportion of Gender for patients who arrived\",label=\"Gender\",figsize=(4,4));"
   ]
  },
  {
   "cell_type": "markdown",
   "metadata": {},
   "source": [
    "The above Pie chart shows that a larger proportion of males has arrived to their appointments, but it is a very slight difference"
   ]
  },
  {
   "cell_type": "markdown",
   "metadata": {},
   "source": [
    "**2-Age:**<br>"
   ]
  },
  {
   "cell_type": "code",
   "execution_count": 102,
   "metadata": {},
   "outputs": [
    {
     "data": {
      "image/png": "[encoded data removed]",
      "text/plain": [
       "<matplotlib.figure.Figure at 0x7fefedd1e7b8>"
      ]
     },
     "metadata": {},
     "output_type": "display_data"
    }
   ],
   "source": [
    "#calculating avg age of patients who came and missed\n",
    "vals=df.groupby(['No_show'])['Age'].mean()\n",
    "#plotting the results in a bar chart\n",
    "plt.bar([1,2],vals,color=['r','b'],tick_label=['Came','Missed'])\n",
    "#specifying x & y axis labels, as well as the chart title\n",
    "plt.xlabel('Patient Status')\n",
    "plt.ylabel('Average Age')\n",
    "plt.title('Average age of Patients who came or missed their appointment');"
   ]
  },
  {
   "cell_type": "markdown",
   "metadata": {},
   "source": [
    "**This shows that older people more often showed up to their appointments than younger people**"
   ]
  },
  {
   "cell_type": "markdown",
   "metadata": {},
   "source": [
    "**3-Disease History:**<br>"
   ]
  },
  {
   "cell_type": "code",
   "execution_count": 103,
   "metadata": {
    "scrolled": true
   },
   "outputs": [
    {
     "data": {
      "image/png": "[encoded data removed]",
      "text/plain": [
       "<matplotlib.figure.Figure at 0x7fefedda8080>"
      ]
     },
     "metadata": {},
     "output_type": "display_data"
    }
   ],
   "source": [
    "#creating a list of diseases in the dataset to facilitate later parts\n",
    "disease_list=['Hipertension','Diabetes','Alcoholism','Handicap']\n",
    "#calculating total number of patients having every disease\n",
    "all_disease=df[disease_list].sum()\n",
    "#calculating number of patients having every disease who came\n",
    "came_disease=df[came][disease_list].sum()/all_disease\n",
    "#calculating number of patients having every disease who missed\n",
    "missed_disease=df[missed][disease_list].sum()/all_disease\n",
    "#specifying locations of bars on x axis\n",
    "ind=np.arange(0,came_disease.shape[0]*2,2)\n",
    "#plotting 2 bar charts, one for patients who came, and one for who missed\n",
    "plt.bar(ind,came_disease,width=0.5,color='g',alpha=0.8,tick_label=disease_list,label='Came')\n",
    "plt.bar(ind+0.5,missed_disease,width=0.5,color='r',alpha=0.8,label='Missed')\n",
    "plt.title('Proportion of people who came and missed for every disease')\n",
    "plt.xlabel('Disease List')\n",
    "plt.ylabel('Number of patients')\n",
    "#locating the legend manually so it does not show over the bars\n",
    "plt.legend(loc=10,bbox_to_anchor=(0.847,0.6,0.5,0.6));"
   ]
  },
  {
   "cell_type": "markdown",
   "metadata": {},
   "source": [
    "**From The above figure, we can conclude that:**<br>\n",
    "* The disease whose patients showed up the lest is Alcoholism<br>\n",
    "* For Hypertension, Diabetes, and Handicap, their patient appear to be showing up in equal ratios"
   ]
  },
  {
   "cell_type": "markdown",
   "metadata": {},
   "source": [
    "**4-Day of Appointment:**<br>"
   ]
  },
  {
   "cell_type": "code",
   "execution_count": 104,
   "metadata": {},
   "outputs": [
    {
     "data": {
      "image/png": "[encoded data removed]",
      "text/plain": [
       "<matplotlib.figure.Figure at 0x7fefedf31d30>"
      ]
     },
     "metadata": {},
     "output_type": "display_data"
    }
   ],
   "source": [
    "#calculating total no. of patients on every day\n",
    "all_days=df.groupby('AppDay')['Age'].count()\n",
    "#calculating no. of patients on every day who came\n",
    "came_days=df[came].groupby(['AppDay'])['Age'].count()/all_days\n",
    "#re-arranging the days to look more logical in the graph\n",
    "came_days=came_days.reindex(['Monday','Tuesday','Wednesday','Thursday','Friday','Saturday'])\n",
    "#locations on x axis\n",
    "ind=np.arange(0,len(came_days)*2,2)\n",
    "#plotting a line chart of patients on different days\n",
    "plt.plot(ind,came_days,color='g',alpha=0.8)\n",
    "plt.xticks(ind,came_days.index)\n",
    "plt.xlabel('Days of Week')\n",
    "plt.ylabel('Number of patients to showup')\n",
    "plt.title('Distribution of patient proportion on every day of the week');"
   ]
  },
  {
   "cell_type": "markdown",
   "metadata": {},
   "source": [
    "**The above graph shows that:**<br>\n",
    "* The largest proportion of patients to show up is on Thursday, indicating that Thursday is a convenient day of appointments<br>\n",
    "* The smallest proportion of patients to show up is on Saturday, indicating that Saturday is not a convenient day for a lot of patients"
   ]
  },
  {
   "cell_type": "markdown",
   "metadata": {},
   "source": [
    "**5-Month of Appointment:**<br>"
   ]
  },
  {
   "cell_type": "code",
   "execution_count": 105,
   "metadata": {},
   "outputs": [
    {
     "data": {
      "image/png": "[encoded data removed]",
      "text/plain": [
       "<matplotlib.figure.Figure at 0x7fefedecd048>"
      ]
     },
     "metadata": {},
     "output_type": "display_data"
    }
   ],
   "source": [
    "#calculating total no. of patients on every month\n",
    "all_months=df.groupby('AppMonth')['Age'].count()\n",
    "#calculating no. of patients on every month who came\n",
    "came_months=df[came].groupby(['AppMonth'])['Age'].count()\n",
    "#locations on x-axis\n",
    "ind=np.arange(0,len(came_months)*2,2)\n",
    "#plotting a line chart, (alpha specifies contrast of the line, set to 0.8 to avoid the color being too bright)\n",
    "plt.plot(ind,came_months/all_months,color='b',alpha=0.8)\n",
    "plt.xticks(ind,['April','May','June'])\n",
    "plt.xlabel('Months')\n",
    "plt.ylabel('Number of patients to showup')\n",
    "plt.title('Distribution of patient proportion on every month');"
   ]
  },
  {
   "cell_type": "markdown",
   "metadata": {},
   "source": [
    "**The above Graph Shows that:**\n",
    "* The Largest Proportion of patients shows up in June\n",
    "* The Smallest Proportion of patients shows up in May"
   ]
  },
  {
   "cell_type": "markdown",
   "metadata": {},
   "source": [
    "**6-Enrollment in the Bolsa Família welfare program**"
   ]
  },
  {
   "cell_type": "code",
   "execution_count": 106,
   "metadata": {},
   "outputs": [
    {
     "data": {
      "image/png": "[encoded data removed]",
      "text/plain": [
       "<matplotlib.figure.Figure at 0x7fefede0f550>"
      ]
     },
     "metadata": {},
     "output_type": "display_data"
    }
   ],
   "source": [
    "#calculating total no. of patients who came\n",
    "all_came = df[came].count()[0]\n",
    "#calculating total no. of patients who came and have scholarship \n",
    "came_sch = df[came].groupby('Scholarship')['Gender'].count()[1]/all_came\n",
    "#plotting a pie chart to show percentages\n",
    "#note: autopct shows the actual percentage on the pie chart\n",
    "plt.pie([came_sch,1-came_sch],labels=['Scholar','Not Scholar'],autopct='%.2f');\n",
    "plt.title('Percentage of Patients who came with and without scholarship');"
   ]
  },
  {
   "cell_type": "markdown",
   "metadata": {},
   "source": [
    "**The above chart shows that:**\n",
    "* Most of patients who came do not have the scholarship"
   ]
  },
  {
   "cell_type": "markdown",
   "metadata": {},
   "source": [
    "**7- Receiving SMS**"
   ]
  },
  {
   "cell_type": "code",
   "execution_count": 107,
   "metadata": {},
   "outputs": [
    {
     "data": {
      "image/png": "[encoded data removed]",
      "text/plain": [
       "<matplotlib.figure.Figure at 0x7fefedcb7ef0>"
      ]
     },
     "metadata": {},
     "output_type": "display_data"
    }
   ],
   "source": [
    "#calculating total no. of patients who received sms\n",
    "all_sms=df.query('SMS_received==1').count()[0]\n",
    "#calculating no. of patients who received sms and came\n",
    "came_sms = df[came].groupby('SMS_received')['Age'].count()[1]/all_sms\n",
    "#plotting pie chart\n",
    "plt.pie([came_sms,1-came_sms],labels=['SMS','No SMS'],autopct='%.2f');\n",
    "plt.title('Effect of SMS on people who came');"
   ]
  },
  {
   "cell_type": "markdown",
   "metadata": {},
   "source": [
    "**The above chart shows that:**<br>\n",
    "* SMS has a great effect in alerting patients to their appointment"
   ]
  },
  {
   "cell_type": "markdown",
   "metadata": {},
   "source": [
    "**8- Appointment Neighbourhood**"
   ]
  },
  {
   "cell_type": "code",
   "execution_count": 108,
   "metadata": {
    "scrolled": true
   },
   "outputs": [
    {
     "data": {
      "image/png": "[encoded data removed]",
      "text/plain": [
       "<matplotlib.figure.Figure at 0x7fefeeffd0f0>"
      ]
     },
     "metadata": {},
     "output_type": "display_data"
    }
   ],
   "source": [
    "#calculating number of patients who came from the top 6 neighbourhoods\n",
    "came_neigh=df[came]['Neighbourhood'].value_counts().sort_values(ascending=False)[:6]\n",
    "#plotting a bar chart\n",
    "plt.bar(np.arange(6),came_neigh,tick_label=came_neigh.index.str[:6])\n",
    "plt.xlabel('Top 6 Neighbourhoods')\n",
    "plt.ylabel('Number of successful appointments')\n",
    "plt.title('Distribution of Neighbourhoods of 25% of patients who came');"
   ]
  },
  {
   "cell_type": "markdown",
   "metadata": {},
   "source": [
    "**The above is a graph of the top 6 Neighbourhoods representing 25% of patients who came**<br>\n",
    "* The absolute top neighbourhood is Jardim Camburi, clinics in this neighbourhood must be available in many convenient locations for patients"
   ]
  },
  {
   "cell_type": "markdown",
   "metadata": {},
   "source": [
    "### Q2) What is the Average age and Gender of patients that suffer from Diabetes, Hypertension, Alcoholism, and Handicap?"
   ]
  },
  {
   "cell_type": "code",
   "execution_count": 109,
   "metadata": {},
   "outputs": [],
   "source": [
    "#Creating a dataframe without duplicate patients\n",
    "df_unique=df.drop_duplicates(subset=['PatientId'],keep='first')"
   ]
  },
  {
   "cell_type": "markdown",
   "metadata": {},
   "source": [
    "**1- Average Age for every disease**"
   ]
  },
  {
   "cell_type": "code",
   "execution_count": 110,
   "metadata": {
    "scrolled": false
   },
   "outputs": [
    {
     "data": {
      "image/png": "[encoded data removed]",
      "text/plain": [
       "<matplotlib.figure.Figure at 0x7fefedd9aa90>"
      ]
     },
     "metadata": {},
     "output_type": "display_data"
    }
   ],
   "source": [
    "#creating a numpy array to hold mean age of patients with each disease\n",
    "def disease_age_func(disease_list):\n",
    "    res=np.empty(len(disease_list))\n",
    "    i=0\n",
    "    for d in disease_list:\n",
    "        res[i]=df_unique.groupby([d])['Age'].mean()[1]\n",
    "        i+=1\n",
    "    return res\n",
    "disease_mean_age=disease_age_func(disease_list)\n",
    "#plotting bar chart\n",
    "plt.bar([1,2,3,4],disease_mean_age,tick_label=disease_list)\n",
    "plt.title('Average ages of patients with different diseases')\n",
    "plt.xlabel('Diseases')\n",
    "plt.ylabel('Average age');"
   ]
  },
  {
   "cell_type": "markdown",
   "metadata": {},
   "source": [
    "**The above graph shows that:**<br>\n",
    "* Hypertension & Diabetes often occur in patients in their 60s<br>\n",
    "* Handicap & Alcoholism are more common in people in their 50s<br>"
   ]
  },
  {
   "cell_type": "markdown",
   "metadata": {},
   "source": [
    "**2- Genders for every disease**"
   ]
  },
  {
   "cell_type": "code",
   "execution_count": 111,
   "metadata": {},
   "outputs": [
    {
     "data": {
      "image/png": "[encoded data removed]",
      "text/plain": [
       "<matplotlib.figure.Figure at 0x7fefedd51b00>"
      ]
     },
     "metadata": {},
     "output_type": "display_data"
    }
   ],
   "source": [
    "#counting no. of males and females having every disease\n",
    "def disease_gender_func(disease_list):\n",
    "    res1=np.empty(len(disease_list),dtype=int)\n",
    "    res2=np.empty(len(disease_list),dtype=int)\n",
    "    i=0\n",
    "    for d in disease_list:\n",
    "        res1[i] = df_unique.query('{}==1'.format(d)).groupby('Gender')['Age'].count()[0]\n",
    "        res2[i] = df_unique.query('{}==1'.format(d)).groupby('Gender')['Age'].count()[1]\n",
    "        i+=1\n",
    "    return (res1,res2)\n",
    "\n",
    "female_diseases,male_diseases=disease_gender_func(disease_list)\n",
    "\n",
    "#plotting 2 bar charts, one for males & one for females\n",
    "ind=np.arange(0,16*0.7,2.8)\n",
    "plt.bar(ind,male_diseases,color='cyan',alpha=0.6,tick_label=disease_list,width=0.7,label='Male')\n",
    "plt.bar(ind+0.7,female_diseases,color='pink',width=0.7,label='Female')\n",
    "plt.legend();"
   ]
  },
  {
   "cell_type": "markdown",
   "metadata": {},
   "source": [
    "**This Graph Shows that:**<br>\n",
    "* Way more Females than males suffer from Hypertension & Diabetes\n",
    "* More females suffer from Handicap but it is not a huge difference between them and males\n",
    "* More Males suffer from Alcoholism"
   ]
  },
  {
   "cell_type": "markdown",
   "metadata": {},
   "source": [
    "<a id='conclusions'></a>\n",
    "## Conclusions\n",
    "**The above research done can lead to the following conclusions:**<br>\n",
    "* Patients of older Age often come to their appointments compared to younger patients\n",
    "* The presence of diseases such as Hypertension, Diabetes, Alcoholism, and Handicap lead to patients showing up to their appointments more\n",
    "* The number of patients increases in midweek, reaches peak on Thursday, then decreases on Friday and Thursday\n",
    "* The least number of patients came in may, while the most came in june\n",
    "* Only around 9% of patients who came to their appointments were subscribed to the Bolsa Família welfare program\n",
    "* More than 70% of patients who came were notified by SMS\n",
    "* The neighbourhoods with the most patients were: Jardim Camburi, Maria Ortiz, Resistência, Jardim da Penha, Centro, and Santa Martha\n",
    "* Hypertension & Diabetes often occur in patients in their 60s\n",
    "* Handicap & Alcoholism are more common in people in their 50s\n",
    "* Way more Females than males suffer from Hypertension & Diabetes\n",
    "* More females suffer from Handicap but it is not a huge difference between them and males\n",
    "* More Males suffer from Alcoholism<br>\n",
    "\n",
    "**Additional Reaserch can be carried out to:**\n",
    "* Compare different characteristics together, rather than against showing up or not such as:\n",
    "   * Neighbourhoods against days to determine peak days for evey neighbourhood\n",
    "   * What age group or  gender benefits the most from the scholarship?\n",
    "\n",
    "### Limitations\n",
    "* 300 rows were dropped from the dataset, for invalid values of age and Handicap status\n",
    "* In Q1, each row is being treated as a seperate individual, ignoring duplicate patient ID, to account for the fact that a single patient can show up to some of their appointments and miss some\n",
    "* However in Q2, since it is concerned with patient characteristics, rather than their multiple appointments, duplicate patients have been removed, and every patient occurs once"
   ]
  },
  {
   "cell_type": "code",
   "execution_count": 112,
   "metadata": {},
   "outputs": [
    {
     "data": {
      "text/plain": [
       "0"
      ]
     },
     "execution_count": 112,
     "metadata": {},
     "output_type": "execute_result"
    }
   ],
   "source": [
    "from subprocess import call\n",
    "call(['python', '-m', 'nbconvert', 'Investigate_a_Dataset.ipynb'])"
   ]
  }
 ],
 "metadata": {
  "kernelspec": {
   "display_name": "Python 3",
   "language": "python",
   "name": "python3"
  },
  "language_info": {
   "codemirror_mode": {
    "name": "ipython",
    "version": 3
   },
   "file_extension": ".py",
   "mimetype": "text/x-python",
   "name": "python",
   "nbconvert_exporter": "python",
   "pygments_lexer": "ipython3",
   "version": "3.6.3"
  }
 },
 "nbformat": 4,
 "nbformat_minor": 2
}
